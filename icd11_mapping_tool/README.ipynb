{
 "cells": [
  {
   "cell_type": "markdown",
   "metadata": {},
   "source": [
    "# Mapping Journey: ICD-11 to CIEL Concepts"
   ]
  },
  {
   "cell_type": "markdown",
   "metadata": {},
   "source": [
    "## Introduction\n",
    "\n",
    "`TD;LR Tip`: Just [Run Devcontainer on VS Code](https://docs.github.com/en/codespaces/setting-up-your-project-for-codespaces/adding-a-dev-container-configuration/introduction-to-dev-containers#rebuilding-the-dev-container-in-the-vs-code-web-client-or-desktop-application) and Jump to **1.2 Testing the Tools**  \n",
    "\n",
    "Completing the mappings of diagnoses and clinical findings to SNOMED CT and ICD-10 was relatively easier. Andrew was able to leverage some professional connections to obtain curated data, which significantly improved the accuracy of mappings between CIEL concepts and these terminologies. In return, we committed to delivering mappings to ICD-11.\n",
    "\n",
    "Since ICD-11 is relatively recent — not necessarily in its creation, but in its implementation — and is much more complex than ICD-10 due to its use of extension codes, pre-coordinated, and post-coordinated concepts, the mapping posed additional challenges. It is important to note that CIEL is based exclusively on pre-coordinated concepts. Thus, we began the ambitious task of mapping the remaining **27,796 CIEL diagnosis concepts** to ICD-11.\n",
    "\n",
    "Previously, manual mapping efforts were extremely time-consuming. Before the initiation of this project, it could take up to **5 minutes** to manually map 3 CIEL concepts using a labor-intensive approach of copying, pasting, and searching for references across multiple tabs. Based on this method, a skilled individual could theoretically map the remaining concepts in approximately **193 days** (considering 1.67 minutes per mapping and 4 working hours per day)."
   ]
  },
  {
   "cell_type": "markdown",
   "metadata": {},
   "source": [
    "## Phase 1: Leveraging Existing Resources and Developing Support Tools\n",
    "\n",
    "At this time, there was a parallel effort by the OCL [(Open Concept Lab)](https://app.openconceptlab.org/) community to develop a mapping support tool, known as the **Mapping Tool**. This tool aimed to assist the mapping process across various terminologies, combining the power of large language models (LLMs) and ElasticSearch to suggest likely target concepts for a given source concept. Although the Mapping Tool was not a production-grade tool, we were able to take advantage of its development to create an initial triage table with approximately **1,693 ICD-11 code suggestions**.\n",
    "\n",
    "Since the Mapping Tool provided only **code suggestions** — and not the **mapping relationship type** (such as *NARROWER-THAN* or *BROADER-THAN*) — it operated under the assumption of *SAME-AS*, which was often not accurate. Therefore, it was necessary to curate these data points further.\n",
    "\n",
    "We imported these suggestions into a web service that was already deployed to support CIEL improvement processes, known as **CIEL Lab**.\n",
    "\n",
    "For the ICD-11 mapping, the **CIEL Lab** became a large working table where each row represented a CIEL concept. Concepts were either sourced from the Mapping Tool or added manually. The table allowed users to correct a suggested code, provide a missing code, and define the mapping type as *SAME-AS*, *NARROWER-THAN*, or *BROADER-THAN*.\n",
    "\n",
    "| Concept ID | FSN | ICD-10 Code | ICD-10 Name | ICD-11 Code | ICD-11 Name | Map Type | Actions |\n",
    "|------------|-----|-------------|-------------|-------------|-------------|----------|------|\n",
    "| Integer ID (clickable link to OCL) | Full Specified Name of CIEL Concept | Mapped WHO-ICD-10 code | ICD-10 FSN captured from secondary lookup table | Input field for suggested ICD-11 code (auto-filled if available) | Captured via ICD-11 API | Radio buttons to select mapping type: SAME-AS, NARROWER-THAN, BROADER-THAN | Final action buttons:<br>- **Send to Review** (stores in review table for later update to CIEL database)<br>- **Send to Manual Queue** (for concepts requiring two ICD-11 codes; removed from pending list and added to manual queue) |\n",
    "\n",
    "Each ICD-11 code field is supported by three auxiliary buttons:\n",
    "\n",
    "- **Run Linearization Search** (using the ICD API) using `/icd/release/11/{releaseId}/{linearizationname}/search` endpoint\n",
    "- **Run Autocode** (using the ICD API) using `/icd/entity/autocode` endpoint\n",
    "- **Run Cross Reference Mapping** using the WHO ICD-10 to ICD-11 cross-reference mapping\n",
    "\n",
    "Each button opens a modal with analysis options, and the best match found in the search can be automatically populated into the input field.\n"
   ]
  },
  {
   "cell_type": "markdown",
   "metadata": {},
   "source": [
    "### 1.1 Developing the Environment for CIEL Lab Support Tools"
   ]
  },
  {
   "cell_type": "markdown",
   "metadata": {},
   "source": [
    "#### 1.1.1 Installing the ICD API Using Docker\n",
    "\n",
    "To support the **Run Linearization Search** and **Run Autocode** functionalities, it was necessary to install the **ICD-11 API** locally using Docker. The setup followed the official WHO instructions available at [ICD API Docker Container Documentation](https://icd.who.int/docs/icd-api/ICDAPI-DockerContainer/).\n",
    "\n",
    "```sh\n",
    "docker run -d \\\n",
    "  --name icd-api \\\n",
    "  -p 8887:80 \\\n",
    "  -e acceptLicense=true \\\n",
    "  -e saveAnalytics=true \\\n",
    "  whoicd/icd-api\n",
    "```\n",
    "\n",
    "In our setup, an **Nginx proxy** was configured to distribute the API under a DNS name. However, for reproducibility and ease of use, we also propose the creation of a `vscode dev container` file that can deploy everything required to run the sandbox environment locally.\n",
    "\n",
    "You just need to enter in your vscode, press `Cmd + Shift + P`, search and select `Open Workspace in Container`\n",
    "\n",
    "With the local ICD API available, our tools were able to automatically interact with ICD-11 services for term searches and auto-coding suggestions without the need of authentication like the WHO API and without speed and requests limitations."
   ]
  },
  {
   "cell_type": "markdown",
   "metadata": {},
   "source": [
    "#### 1.1.2 Creating Supporting Tables for ICD-10 to ICD-11 Cross Reference\n",
    "\n",
    "To enable the **Run Cross Reference Mapping** functionality, we needed access to cross-reference data between ICD-10 and ICD-11.\n",
    "\n",
    "We downloaded the mapping archive from the [official WHO site](https://icd.who.int/browse/2025-01/mms/en) under:\n",
    "- `Info > ICD-10 / ICD-11 Mapping Tables`,  \n",
    "or directly from this link: [Download Mapping Tables (ZIP)](https://icdcdn.who.int/static/releasefiles/2025-01/mapping.zip).\n",
    "\n",
    "After extracting the files, we executed the following shell script to import the mapping data into a MySQL database:\n",
    "\n",
    "```sh\n",
    "cd icd11_mapping_tool\n",
    "wget https://icdcdn.who.int/static/releasefiles/2025-01/mapping.zip\n",
    "unzip mapping.zip -d mapping\n",
    "sudo chmod +x seed_icd_cross_reference_tables.sh\n",
    "./seed_icd_cross_reference_tables.sh -u root -proot -d sandbox -h db-sandbox\n",
    "```"
   ]
  },
  {
   "cell_type": "markdown",
   "metadata": {},
   "source": [
    "##### Key Table for Cross-Reference Mapping\n",
    "\n",
    "The most relevant table for searches is `icd11_10To11MapToMultipleCategories` as it contains the mappings of ICD-10 codes to multiple corresponding ICD-11 codes."
   ]
  },
  {
   "cell_type": "markdown",
   "metadata": {},
   "source": [
    "#### Additional View for ICD-10 Codes\n",
    "\n",
    "In order to assist with future joins, especially when needing the ICD-10 FSN (Full Specified Name), we created a simple view:\n",
    "\n",
    "```sql\n",
    "CREATE OR REPLACE `vw_icd10_codes` AS\n",
    "select\n",
    "    distinct `cr`.`icd10Code` AS `code`,\n",
    "    `cr`.`icd10Title` AS `name`\n",
    "from\n",
    "    `icd11_10To11MapToMultipleCategories` `cr`;\n",
    "```"
   ]
  },
  {
   "cell_type": "markdown",
   "metadata": {},
   "source": [
    "### 1.2 Testing the Tools\n",
    "\n",
    "If you've executed the commands above or simply launched the devcontainer in VS Code, your environment is already prepared. Let's install the necessary packages:"
   ]
  },
  {
   "cell_type": "code",
   "execution_count": 5,
   "metadata": {},
   "outputs": [
    {
     "name": "stdout",
     "output_type": "stream",
     "text": [
      "Defaulting to user installation because normal site-packages is not writeable\n",
      "Requirement already satisfied: requests in /home/vscode/.local/lib/python3.12/site-packages (2.32.3)\n",
      "Collecting pymysql\n",
      "  Downloading PyMySQL-1.1.1-py3-none-any.whl.metadata (4.4 kB)\n",
      "Requirement already satisfied: sqlalchemy in /home/vscode/.local/lib/python3.12/site-packages (2.0.40)\n",
      "Requirement already satisfied: python-dotenv in /home/vscode/.local/lib/python3.12/site-packages (1.1.0)\n",
      "Requirement already satisfied: tqdm in /home/vscode/.local/lib/python3.12/site-packages (4.67.1)\n",
      "Requirement already satisfied: charset-normalizer<4,>=2 in /home/vscode/.local/lib/python3.12/site-packages (from requests) (3.4.1)\n",
      "Requirement already satisfied: idna<4,>=2.5 in /home/vscode/.local/lib/python3.12/site-packages (from requests) (3.10)\n",
      "Requirement already satisfied: urllib3<3,>=1.21.1 in /home/vscode/.local/lib/python3.12/site-packages (from requests) (2.3.0)\n",
      "Requirement already satisfied: certifi>=2017.4.17 in /home/vscode/.local/lib/python3.12/site-packages (from requests) (2025.1.31)\n",
      "Requirement already satisfied: greenlet>=1 in /home/vscode/.local/lib/python3.12/site-packages (from sqlalchemy) (3.1.1)\n",
      "Requirement already satisfied: typing-extensions>=4.6.0 in /home/vscode/.local/lib/python3.12/site-packages (from sqlalchemy) (4.13.1)\n",
      "Downloading PyMySQL-1.1.1-py3-none-any.whl (44 kB)\n",
      "Installing collected packages: pymysql\n",
      "Successfully installed pymysql-1.1.1\n",
      "\n",
      "\u001b[1m[\u001b[0m\u001b[34;49mnotice\u001b[0m\u001b[1;39;49m]\u001b[0m\u001b[39;49m A new release of pip is available: \u001b[0m\u001b[31;49m24.3.1\u001b[0m\u001b[39;49m -> \u001b[0m\u001b[32;49m25.0.1\u001b[0m\n",
      "\u001b[1m[\u001b[0m\u001b[34;49mnotice\u001b[0m\u001b[1;39;49m]\u001b[0m\u001b[39;49m To update, run: \u001b[0m\u001b[32;49mpip install --upgrade pip\u001b[0m\n"
     ]
    }
   ],
   "source": [
    "!pip install requests pymysql sqlalchemy python-dotenv tqdm"
   ]
  },
  {
   "cell_type": "markdown",
   "metadata": {},
   "source": [
    "Create the required environment variables in Python:"
   ]
  },
  {
   "cell_type": "code",
   "execution_count": 2,
   "metadata": {},
   "outputs": [],
   "source": [
    "import os\n",
    "from dotenv import load_dotenv\n",
    "\n",
    "load_dotenv()\n",
    "\n",
    "DB_USER = os.getenv(\"DB_USER\", \"root\")\n",
    "DB_PASS = os.getenv(\"DB_PASS\", \"root\")\n",
    "DB_HOST = os.getenv(\"DB_HOST\", \"db-sandbox\")\n",
    "DB_PORT = os.getenv(\"DB_PORT\", 3306)\n",
    "DB_NAME = os.getenv(\"DB_NAME\", \"sandbox\")"
   ]
  },
  {
   "cell_type": "code",
   "execution_count": 3,
   "metadata": {},
   "outputs": [],
   "source": [
    "CIEL_FSN = \"Carrion's disease\"\n",
    "CIEL_ICD10 = \"A44.0\""
   ]
  },
  {
   "cell_type": "markdown",
   "metadata": {},
   "source": [
    "Establish the SQLAlchemy connection and perform a simple query:"
   ]
  },
  {
   "cell_type": "code",
   "execution_count": 6,
   "metadata": {},
   "outputs": [
    {
     "name": "stdout",
     "output_type": "stream",
     "text": [
      "Connection Test: 1\n"
     ]
    }
   ],
   "source": [
    "from sqlalchemy import create_engine, text\n",
    "\n",
    "DATABASE_URL = f\"mysql+pymysql://{DB_USER}:{DB_PASS}@{DB_HOST}:{DB_PORT}/{DB_NAME}\"\n",
    "engine = create_engine(DATABASE_URL)\n",
    "\n",
    "with engine.connect() as conn:\n",
    "    result = conn.execute(text(\"SELECT 1\")).scalar()\n",
    "    print(\"Connection Test:\", result)"
   ]
  },
  {
   "cell_type": "markdown",
   "metadata": {},
   "source": [
    "#### 1.2.1 Linearization Search\n",
    "\n",
    "This method has proven most effective so far. It leverages the ICD API to find matches between CIEL_FSN and ICD-11 entities:"
   ]
  },
  {
   "cell_type": "code",
   "execution_count": 9,
   "metadata": {},
   "outputs": [
    {
     "name": "stdout",
     "output_type": "stream",
     "text": [
      "✅ Matched concept: 1C11.0 - <em class='found'>Carrion</em> <em class='found'>disease</em>\n"
     ]
    }
   ],
   "source": [
    "import requests\n",
    "\n",
    "ICD_API_URL = \"http://icdapi/icd/release/11/2025-01/mms/search\"\n",
    "\n",
    "params = {\n",
    "    \"q\": CIEL_FSN,\n",
    "    \"subtreeFilterUsesFoundationDescendants\": False,\n",
    "    \"includeKeywordResult\": False,\n",
    "    \"useFlexisearch\": False,\n",
    "    \"flatResults\": True,\n",
    "    \"highlightingEnabled\": True,\n",
    "    \"medicalCodingMode\": True\n",
    "}\n",
    "\n",
    "headers = {\n",
    "    \"accept\": \"application/json\",\n",
    "    \"API-Version\": \"v2\",\n",
    "    \"Accept-Language\": \"en\"\n",
    "}\n",
    "\n",
    "response = requests.get(ICD_API_URL, params=params, headers=headers)\n",
    "data = response.json()\n",
    "\n",
    "if data.get(\"destinationEntities\"):\n",
    "    results = sorted(data[\"destinationEntities\"], key=lambda x: x[\"score\"], reverse=True)\n",
    "    best = results[0]\n",
    "    print(f\"✅ Matched concept: {best['theCode']} - {best.get('title', '')}\")\n",
    "else:\n",
    "    print(\"⚠️ No match found.\")"
   ]
  },
  {
   "cell_type": "markdown",
   "metadata": {},
   "source": [
    "#### 1.2.2 Autocode\n",
    "\n",
    "A simplified approach has been designed to generate mapping suggestions, particularly effective when the `matchScore` is exactly **1**. In these cases, the system identifies a direct and highly reliable match between the source term and the ICD-11 entity without ambiguity.\n",
    "\n",
    "Although the autocode method may not capture the full complexity of some clinical concepts, it can still provide valuable preliminary suggestions. These initial suggestions can be particularly useful for assembling the first batches of mappings that will undergo manual review and curation by subject matter experts, such as Andrew."
   ]
  },
  {
   "cell_type": "code",
   "execution_count": 12,
   "metadata": {},
   "outputs": [
    {
     "name": "stdout",
     "output_type": "stream",
     "text": [
      "{'foundationURI': 'http://id.who.int/icd/entity/1917297026',\n",
      " 'matchLevel': 0,\n",
      " 'matchScore': 1,\n",
      " 'matchType': 0,\n",
      " 'matchingText': 'Carrion disease',\n",
      " 'searchText': \"Carrion's disease\"}\n",
      "✅ Autocode result: 1C11.0 - Carrion disease\n"
     ]
    }
   ],
   "source": [
    "from pprint import pprint\n",
    "\n",
    "autocode_url = \"http://icdapi/icd/entity/autocode\"\n",
    "autocode_params = {\"searchText\": CIEL_FSN}\n",
    "\n",
    "autocode_resp = requests.get(autocode_url, params=autocode_params, headers=headers).json()\n",
    "entity_id = autocode_resp[\"foundationURI\"].split(\"/\")[-1]\n",
    "\n",
    "pprint(autocode_resp)\n",
    "\n",
    "entity_resp = requests.get(f\"http://icdapi/icd/release/11/2025-01/mms/{entity_id}\", headers=headers).json()\n",
    "code = entity_resp.get(\"code\") or entity_resp.get(\"codeRange\", \"[No code found]\").split(\"-\")[-1]\n",
    "title = entity_resp.get(\"title\", {}).get(\"@value\", \"[No name found]\")\n",
    "\n",
    "print(f\"✅ Autocode result: {code} - {title}\")"
   ]
  },
  {
   "cell_type": "markdown",
   "metadata": {},
   "source": [
    "#### 1.2.3 WHO ICD-10 Cross Reference\n",
    "\n",
    "Using WHO-provided tables to cross-reference ICD-10 and ICD-11:"
   ]
  },
  {
   "cell_type": "code",
   "execution_count": 14,
   "metadata": {},
   "outputs": [
    {
     "name": "stdout",
     "output_type": "stream",
     "text": [
      "🔁 ICD-10 → ICD-11: 1C11.00 - Oroya fever\n"
     ]
    }
   ],
   "source": [
    "def icd10_to_icd11_crossref(icd10_code, db_engine):\n",
    "    query = text(\"\"\"\n",
    "        SELECT icd11Code, icd11Title\n",
    "        FROM icd11_10To11MapToOneCategory\n",
    "        WHERE icd10Code = :icd10_code\n",
    "        LIMIT 1\n",
    "    \"\"\")\n",
    "    with db_engine.connect() as conn:\n",
    "        result = conn.execute(query, {\"icd10_code\": icd10_code}).fetchone()\n",
    "    if result:\n",
    "        return result\n",
    "    else:\n",
    "        raise ValueError(\"No cross-reference found.\")\n",
    "\n",
    "cross_ref = icd10_to_icd11_crossref(CIEL_ICD10, engine)\n",
    "print(f\"🔁 ICD-10 → ICD-11: {cross_ref.icd11Code} - {cross_ref.icd11Title}\")"
   ]
  },
  {
   "cell_type": "markdown",
   "metadata": {},
   "source": [
    "#### 1.2.4 Quality Verification\n",
    "\n",
    "Ensure ICD-11 codes are terminal (leaf) or have an extension pattern (starting with \"&X\"):"
   ]
  },
  {
   "cell_type": "code",
   "execution_count": null,
   "metadata": {},
   "outputs": [],
   "source": [
    "import re\n",
    "from tqdm import tqdm\n",
    "\n",
    "errors = []\n",
    "terminal_pattern = re.compile(r'&X[A-Z0-9]+')\n",
    "\n",
    "with engine.connect() as conn:\n",
    "    rows = conn.execute(text(\"SELECT id, concept_id, icd11_code FROM analytics.lab_review_icd11_mapping WHERE review_status = 'PENDING'\")).mappings().all()\n",
    "\n",
    "base_url = \"https://icd.filipelopes.med.br/icd/release/11/2025-01/mms\"\n",
    "\n",
    "for row in tqdm(rows):\n",
    "    code = row['icd11_code']\n",
    "    if terminal_pattern.search(code):\n",
    "        continue\n",
    "\n",
    "    codeinfo_resp = requests.get(f\"{base_url}/codeinfo/{code}\", headers=headers)\n",
    "    if codeinfo_resp.status_code != 200:\n",
    "        errors.append(f\"Code {code}: API error {codeinfo_resp.status_code}\")\n",
    "        continue\n",
    "\n",
    "    stem_id = codeinfo_resp.json().get(\"stemId\", \"\").split(\"/mms/\")[-1]\n",
    "    linear_resp = requests.get(f\"{base_url}/{stem_id}\", headers=headers).json()\n",
    "\n",
    "    if linear_resp.get(\"child\"):\n",
    "        errors.append(f\"Code {code}: Not terminal (has children).\")\n",
    "\n",
    "if errors:\n",
    "    print(f\"QA completed with {len(errors)} errors:\")\n",
    "    for e in errors:\n",
    "        print(f\"• {e}\")\n",
    "else:\n",
    "    print(\"QA completed. No errors.\")"
   ]
  },
  {
   "cell_type": "markdown",
   "metadata": {},
   "source": [
    "## Phase 2. Semantic Approach\n",
    "\n",
    "Given that generic Elasticsearch queries yielded insufficient results, a semantic vectorization approach using structured ICD data has been considered. This process might later integrate into the OCL as a specialized plugin (refer: [OCL API match](https://docs.openconceptlab.org/en/latest/oclapi/apireference/match.html)).\n",
    "\n",
    "Semantic vectorization involves converting clinical terms, descriptions, and synonyms into dense numerical vectors that capture their underlying meaning and context, rather than relying solely on keyword-based similarity.\n",
    "\n",
    "This process will leverage **ChromaDB**, a vector database optimized for high-performance similarity search. ChromaDB will store embeddings generated from multiple structured datasets, enabling efficient retrieval of conceptually similar terms across different coding systems. The main datasets to be vectorized are:\n",
    "\n",
    "| Dataset                    | Vectorized Documents                             | Metadata                                                    |\n",
    "|-----------------------------|--------------------------------------------------|-------------------------------------------------------------|\n",
    "| **ciel_v20240726**, **ciel_v20250317** | concept.name, concept.description            | concept_id, concept_class, datatype, locale, retired, type [\"fully specified\", \"synonym\", \"description\"] |\n",
    "| **icd10_102019**            | fsn, synonym                                     | code, name_type [\"fsn\", \"synonym\"]                          |\n",
    "| **icd11_merge**             | fsn, synonyms, index_terms                       | code, name_type [\"fsn\", \"synonym\", \"index\"]                 |\n",
    "| **icd11_linear_extensions** | extension code (leaf), title, hierarchical parents | extension metadata (to be defined)                          |\n",
    "| **icd11_flat_hierarchy**    | concepts, code, related extension possibilities  | hierarchy metadata (to be defined)                          |\n",
    "\n",
    "By incorporating semantic search into the existing mapping workflow — alongside **Linearization Search**, **Autocode**, **WHO ICD-10 Cross-reference**, and **Elastic Search** — we can enrich the candidate pool of ICD-11 mappings. Each proposed mapping will then undergo a quality assurance (QA) process. Only those mappings that pass QA validation will be subjected to a scoring mechanism to determine the most appropriate match.\n",
    "\n",
    "The final validated mappings will be made available in a structured JSON format for downstream use, as shown below:\n",
    "\n",
    "```json\n",
    "[\n",
    "  {\n",
    "    \"ciel_concept_id\": 1234,\n",
    "    \"icd11_proposal\": \"ABC123\"\n",
    "  }\n",
    "]"
   ]
  },
  {
   "cell_type": "markdown",
   "metadata": {},
   "source": [
    "## Phase 3. Working with Extensions\n",
    "\n",
    "ICD-11 uses extensions (prefixed with 'X' and connected by '&') to specify aspects such as severity, laterality, and body location, enhancing the precision of medical concepts.\n",
    "\n",
    "In ICD-11, a stem code represents a pre-coordinated term, which refers to a clinical concept that has been fully assembled with its meaning encapsulated in a single code, such as \"Pneumonia\" or \"Type 2 Diabetes Mellitus.\" Pre-coordination means that the complexity of the concept is built into the stem itself. However, when further granularity is needed — for example, indicating \"Left lung pneumonia\" instead of just \"Pneumonia\" — extensions are used.\n",
    "\n",
    "Extensions are linked to stem codes through an ampersand (’&’) and typically begin with the letter ‘X’. They allow post-coordination, meaning that users can combine a stem code with one or more extensions to provide richer, more specific clinical descriptions. For instance, a code for \"Pneumonia\" could be combined with an extension for \"Left lung\" to denote precisely the affected site.\n",
    "\n",
    "**Proposed Process:**\n",
    "- Structure and join ICD-10/11 tables clearly.\n",
    "- Vectorize data using ChromaDB.\n",
    "- Integrate vectors into LangChain.\n",
    "- Utilize a lightweight LLM (e.g., Mistral Small) to query semantic vectors.\n",
    "- Deploy an interactive webpage for easy validation, linking suggestions directly to the ICD-11 Browser.\n",
    "\n",
    "This structured process enhances efficiency and accuracy in ICD-11 code mapping."
   ]
  }
 ],
 "metadata": {
  "kernelspec": {
   "display_name": "Python 3 (ipykernel)",
   "language": "python",
   "name": "python3"
  },
  "language_info": {
   "codemirror_mode": {
    "name": "ipython",
    "version": 3
   },
   "file_extension": ".py",
   "mimetype": "text/x-python",
   "name": "python",
   "nbconvert_exporter": "python",
   "pygments_lexer": "ipython3",
   "version": "3.12.9"
  }
 },
 "nbformat": 4,
 "nbformat_minor": 4
}
