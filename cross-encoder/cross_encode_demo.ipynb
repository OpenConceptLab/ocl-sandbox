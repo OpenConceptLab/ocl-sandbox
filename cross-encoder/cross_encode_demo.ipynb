{
 "cells": [
  {
   "cell_type": "markdown",
   "metadata": {},
   "source": [
    "# Cross-Encoder Demo for Medical Term Re-ranking\n",
    "\n",
    "This notebook demonstrates three different approaches to using the cross-encoder for medical term re-ranking:\n",
    "1. Interactive input mode\n",
    "2. Single test description\n",
    "3. Batch processing from CSV"
   ]
  },
  {
   "cell_type": "code",
   "execution_count": 5,
   "metadata": {},
   "outputs": [
    {
     "name": "stderr",
     "output_type": "stream",
     "text": [
      "/Users/jonathanpayne/CascadeProjects/icd11/venv/lib/python3.13/site-packages/huggingface_hub/file_download.py:896: FutureWarning: `resume_download` is deprecated and will be removed in version 1.0.0. Downloads always resume when possible. If you want to force a new download, use `force_download=True`.\n",
      "  warnings.warn(\n"
     ]
    }
   ],
   "source": [
    "import pandas as pd\n",
    "from cross_encode import MedicalTermRanker, candidate_pool\n",
    "\n",
    "# Initialize the ranker once to be used across all examples\n",
    "ranker = MedicalTermRanker(candidate_pool=candidate_pool)"
   ]
  },
  {
   "cell_type": "markdown",
   "metadata": {},
   "source": [
    "## 1. Interactive Input Mode\n",
    "This cell implements the interactive mode where users can type descriptions and see results in real-time."
   ]
  },
  {
   "cell_type": "code",
   "execution_count": 6,
   "metadata": {},
   "outputs": [
    {
     "name": "stdout",
     "output_type": "stream",
     "text": [
      "Enter medical descriptions (type 'quit' to exit):\n"
     ]
    },
    {
     "name": "stderr",
     "output_type": "stream",
     "text": [
      "Ranking terms: 100%|██████████| 20/20 [00:00<00:00, 135.07it/s]\n"
     ]
    },
    {
     "name": "stdout",
     "output_type": "stream",
     "text": [
      "\n",
      "Ranked Results:\n",
      "LOINC Code                                                             Description   Score\n",
      "     731-0                      Lymphocytes [#/volume] in Blood by Automated count  9.0640\n",
      "     751-8                      Neutrophils [#/volume] in Blood by Automated count  5.9140\n",
      "     777-3                        Platelets [#/volume] in Blood by Automated count  4.5153\n",
      "    4544-3                Hematocrit [Volume Fraction] of Blood by Automated count  3.5703\n",
      "     786-4                                   MCHC [Mass/volume] by Automated count  3.2429\n",
      "     787-2                                 MCV [Entitic volume] by Automated count  1.9096\n",
      "     788-0               Erythrocyte distribution width [Ratio] by Automated count  0.0715\n",
      "     785-6                                   MCH [Entitic mass] by Automated count -1.4490\n",
      "     718-7                                       Hemoglobin [Mass/volume] in Blood -4.2435\n",
      "    1975-2                        Total Bilirubin [Mass/volume] in Serum or Plasma -6.9818\n",
      "    1920-8                      AST [Enzymatic activity/volume] in Serum or Plasma -7.1522\n",
      "    6768-6     Alkaline phosphatase [Enzymatic activity/volume] in Serum or Plasma -7.5055\n",
      "    3094-0                                    BUN [Mass/volume] in Serum or Plasma -7.5106\n",
      "    2160-0                             Creatinine [Mass/volume] in Serum or Plasma -7.6527\n",
      "    2093-3                            Cholesterol [Mass/volume] in Serum or Plasma -7.6748\n",
      "    1742-6 Alanine aminotransferase [Enzymatic activity/volume] in Serum or Plasma -7.8956\n",
      "    2345-7                                Glucose [Mass/volume] in Serum or Plasma -8.1257\n",
      "    2571-8                           Triglyceride [Mass/volume] in Serum or Plasma -8.2606\n",
      "    2089-1                        LDL Cholesterol [Mass/volume] in Serum or Plasma -8.2940\n",
      "    2085-9                        HDL Cholesterol [Mass/volume] in Serum or Plasma -8.3373\n"
     ]
    },
    {
     "name": "stderr",
     "output_type": "stream",
     "text": [
      "Ranking terms: 100%|██████████| 20/20 [00:00<00:00, 138.44it/s]\n"
     ]
    },
    {
     "name": "stdout",
     "output_type": "stream",
     "text": [
      "\n",
      "Ranked Results:\n",
      "LOINC Code                                                             Description    Score\n",
      "     731-0                      Lymphocytes [#/volume] in Blood by Automated count   8.4707\n",
      "     751-8                      Neutrophils [#/volume] in Blood by Automated count   2.6071\n",
      "     777-3                        Platelets [#/volume] in Blood by Automated count   0.6505\n",
      "    4544-3                Hematocrit [Volume Fraction] of Blood by Automated count   0.5312\n",
      "     788-0               Erythrocyte distribution width [Ratio] by Automated count  -0.4771\n",
      "     786-4                                   MCHC [Mass/volume] by Automated count  -0.6970\n",
      "     787-2                                 MCV [Entitic volume] by Automated count  -2.0379\n",
      "     785-6                                   MCH [Entitic mass] by Automated count  -2.1688\n",
      "     718-7                                       Hemoglobin [Mass/volume] in Blood  -8.9761\n",
      "    1975-2                        Total Bilirubin [Mass/volume] in Serum or Plasma -10.8307\n",
      "    1920-8                      AST [Enzymatic activity/volume] in Serum or Plasma -11.1246\n",
      "    2160-0                             Creatinine [Mass/volume] in Serum or Plasma -11.1724\n",
      "    6768-6     Alkaline phosphatase [Enzymatic activity/volume] in Serum or Plasma -11.1854\n",
      "    1742-6 Alanine aminotransferase [Enzymatic activity/volume] in Serum or Plasma -11.2124\n",
      "    2093-3                            Cholesterol [Mass/volume] in Serum or Plasma -11.2348\n",
      "    2085-9                        HDL Cholesterol [Mass/volume] in Serum or Plasma -11.2700\n",
      "    2571-8                           Triglyceride [Mass/volume] in Serum or Plasma -11.2744\n",
      "    2345-7                                Glucose [Mass/volume] in Serum or Plasma -11.2751\n",
      "    2089-1                        LDL Cholesterol [Mass/volume] in Serum or Plasma -11.2785\n",
      "    3094-0                                    BUN [Mass/volume] in Serum or Plasma -11.2904\n"
     ]
    },
    {
     "name": "stderr",
     "output_type": "stream",
     "text": [
      "Ranking terms: 100%|██████████| 20/20 [00:00<00:00, 140.09it/s]\n"
     ]
    },
    {
     "name": "stdout",
     "output_type": "stream",
     "text": [
      "\n",
      "Ranked Results:\n",
      "LOINC Code                                                             Description    Score\n",
      "    4544-3                Hematocrit [Volume Fraction] of Blood by Automated count   7.9121\n",
      "     751-8                      Neutrophils [#/volume] in Blood by Automated count   6.9265\n",
      "     777-3                        Platelets [#/volume] in Blood by Automated count   6.7726\n",
      "     731-0                      Lymphocytes [#/volume] in Blood by Automated count   6.5071\n",
      "     787-2                                 MCV [Entitic volume] by Automated count   1.6038\n",
      "     786-4                                   MCHC [Mass/volume] by Automated count   1.1777\n",
      "     785-6                                   MCH [Entitic mass] by Automated count   1.1746\n",
      "     788-0               Erythrocyte distribution width [Ratio] by Automated count   0.7850\n",
      "     718-7                                       Hemoglobin [Mass/volume] in Blood  -9.7337\n",
      "    1975-2                        Total Bilirubin [Mass/volume] in Serum or Plasma -10.4740\n",
      "    2093-3                            Cholesterol [Mass/volume] in Serum or Plasma -11.0888\n",
      "    2160-0                             Creatinine [Mass/volume] in Serum or Plasma -11.1601\n",
      "    2571-8                           Triglyceride [Mass/volume] in Serum or Plasma -11.2085\n",
      "    2085-9                        HDL Cholesterol [Mass/volume] in Serum or Plasma -11.2228\n",
      "    2345-7                                Glucose [Mass/volume] in Serum or Plasma -11.2312\n",
      "    2089-1                        LDL Cholesterol [Mass/volume] in Serum or Plasma -11.2423\n",
      "    1742-6 Alanine aminotransferase [Enzymatic activity/volume] in Serum or Plasma -11.2437\n",
      "    1920-8                      AST [Enzymatic activity/volume] in Serum or Plasma -11.2528\n",
      "    3094-0                                    BUN [Mass/volume] in Serum or Plasma -11.2875\n",
      "    6768-6     Alkaline phosphatase [Enzymatic activity/volume] in Serum or Plasma -11.3061\n"
     ]
    },
    {
     "name": "stderr",
     "output_type": "stream",
     "text": [
      "Ranking terms: 100%|██████████| 20/20 [00:00<00:00, 132.01it/s]\n"
     ]
    },
    {
     "name": "stdout",
     "output_type": "stream",
     "text": [
      "\n",
      "Ranked Results:\n",
      "LOINC Code                                                             Description    Score\n",
      "     731-0                      Lymphocytes [#/volume] in Blood by Automated count   4.5218\n",
      "     788-0               Erythrocyte distribution width [Ratio] by Automated count -11.0737\n",
      "     751-8                      Neutrophils [#/volume] in Blood by Automated count -11.0885\n",
      "    6768-6     Alkaline phosphatase [Enzymatic activity/volume] in Serum or Plasma -11.1366\n",
      "    1742-6 Alanine aminotransferase [Enzymatic activity/volume] in Serum or Plasma -11.1824\n",
      "    1920-8                      AST [Enzymatic activity/volume] in Serum or Plasma -11.1842\n",
      "    2160-0                             Creatinine [Mass/volume] in Serum or Plasma -11.2403\n",
      "     718-7                                       Hemoglobin [Mass/volume] in Blood -11.2549\n",
      "    2093-3                            Cholesterol [Mass/volume] in Serum or Plasma -11.2570\n",
      "    2571-8                           Triglyceride [Mass/volume] in Serum or Plasma -11.2598\n",
      "    2345-7                                Glucose [Mass/volume] in Serum or Plasma -11.2668\n",
      "     786-4                                   MCHC [Mass/volume] by Automated count -11.2748\n",
      "    3094-0                                    BUN [Mass/volume] in Serum or Plasma -11.2840\n",
      "    2085-9                        HDL Cholesterol [Mass/volume] in Serum or Plasma -11.2875\n",
      "    2089-1                        LDL Cholesterol [Mass/volume] in Serum or Plasma -11.2902\n",
      "    1975-2                        Total Bilirubin [Mass/volume] in Serum or Plasma -11.3025\n",
      "    4544-3                Hematocrit [Volume Fraction] of Blood by Automated count -11.3453\n",
      "     785-6                                   MCH [Entitic mass] by Automated count -11.3495\n",
      "     787-2                                 MCV [Entitic volume] by Automated count -11.3714\n",
      "     777-3                        Platelets [#/volume] in Blood by Automated count -11.3885\n"
     ]
    }
   ],
   "source": [
    "def interactive_mode():\n",
    "    print(\"Enter medical descriptions (type 'quit' to exit):\")\n",
    "    while True:\n",
    "        description = input(\"\\nEnter description: \").strip()\n",
    "        if description.lower() == 'quit':\n",
    "            break\n",
    "        if not description:\n",
    "            print(\"Please enter a valid description.\")\n",
    "            continue\n",
    "        \n",
    "        ranked_results = ranker.rank_terms(description)\n",
    "        ranker.print_ranked_results(ranked_results)\n",
    "\n",
    "interactive_mode()"
   ]
  },
  {
   "cell_type": "markdown",
   "metadata": {},
   "source": [
    "## 2. Single Test Description\n",
    "This cell demonstrates using a single hard-coded test description."
   ]
  },
  {
   "cell_type": "code",
   "execution_count": 2,
   "metadata": {},
   "outputs": [
    {
     "name": "stdout",
     "output_type": "stream",
     "text": [
      "Testing description: 'blood glucose measurement'\n"
     ]
    },
    {
     "name": "stderr",
     "output_type": "stream",
     "text": [
      "Ranking terms: 100%|██████████| 20/20 [00:00<00:00, 35.35it/s]"
     ]
    },
    {
     "name": "stdout",
     "output_type": "stream",
     "text": [
      "\n",
      "Ranked Results:\n",
      "LOINC Code                                                             Description    Score\n",
      "    2345-7                                Glucose [Mass/volume] in Serum or Plasma   0.3159\n",
      "    4544-3                Hematocrit [Volume Fraction] of Blood by Automated count  -8.0850\n",
      "     718-7                                       Hemoglobin [Mass/volume] in Blood  -8.1794\n",
      "    1975-2                        Total Bilirubin [Mass/volume] in Serum or Plasma  -9.3607\n",
      "    2571-8                           Triglyceride [Mass/volume] in Serum or Plasma  -9.5033\n",
      "    2093-3                            Cholesterol [Mass/volume] in Serum or Plasma  -9.6174\n",
      "     751-8                      Neutrophils [#/volume] in Blood by Automated count  -9.7745\n",
      "    2085-9                        HDL Cholesterol [Mass/volume] in Serum or Plasma  -9.9587\n",
      "    2089-1                        LDL Cholesterol [Mass/volume] in Serum or Plasma  -9.9724\n",
      "     777-3                        Platelets [#/volume] in Blood by Automated count -10.2943\n",
      "     785-6                                   MCH [Entitic mass] by Automated count -10.4017\n",
      "    2160-0                             Creatinine [Mass/volume] in Serum or Plasma -10.5647\n",
      "     787-2                                 MCV [Entitic volume] by Automated count -10.5707\n",
      "     786-4                                   MCHC [Mass/volume] by Automated count -10.5906\n",
      "     731-0                      Lymphocytes [#/volume] in Blood by Automated count -10.6387\n",
      "     788-0               Erythrocyte distribution width [Ratio] by Automated count -10.8664\n",
      "    1742-6 Alanine aminotransferase [Enzymatic activity/volume] in Serum or Plasma -10.8738\n",
      "    6768-6     Alkaline phosphatase [Enzymatic activity/volume] in Serum or Plasma -10.8856\n",
      "    1920-8                      AST [Enzymatic activity/volume] in Serum or Plasma -11.0814\n",
      "    3094-0                                    BUN [Mass/volume] in Serum or Plasma -11.0883\n"
     ]
    },
    {
     "name": "stderr",
     "output_type": "stream",
     "text": [
      "\n"
     ]
    }
   ],
   "source": [
    "def test_single_description(description=\"blood glucose measurement\"):\n",
    "    print(f\"Testing description: '{description}'\")\n",
    "    ranked_results = ranker.rank_terms(description)\n",
    "    ranker.print_ranked_results(ranked_results)\n",
    "    return ranked_results\n",
    "\n",
    "# Run the test\n",
    "test_results = test_single_description()"
   ]
  },
  {
   "cell_type": "markdown",
   "metadata": {},
   "source": [
    "## 3. Batch Processing from CSV\n",
    "This cell demonstrates processing multiple descriptions from a CSV file and analyzing the results."
   ]
  },
  {
   "cell_type": "code",
   "execution_count": 3,
   "metadata": {},
   "outputs": [
    {
     "name": "stdout",
     "output_type": "stream",
     "text": [
      "\n",
      "Processing: blood sugar test\n"
     ]
    },
    {
     "name": "stderr",
     "output_type": "stream",
     "text": [
      "Ranking terms: 100%|██████████| 20/20 [00:00<00:00, 139.99it/s]\n"
     ]
    },
    {
     "name": "stdout",
     "output_type": "stream",
     "text": [
      "Expected LOINC: 2345-7\n",
      "\n",
      "Ranked Results:\n",
      "LOINC Code                              Description   Score\n",
      "    2345-7 Glucose [Mass/volume] in Serum or Plasma -2.4427\n",
      "\n",
      "Processing: complete blood count with hemoglobin\n"
     ]
    },
    {
     "name": "stderr",
     "output_type": "stream",
     "text": [
      "Ranking terms: 100%|██████████| 20/20 [00:00<00:00, 141.11it/s]\n"
     ]
    },
    {
     "name": "stdout",
     "output_type": "stream",
     "text": [
      "Expected LOINC: 718-7\n",
      "\n",
      "Ranked Results:\n",
      "LOINC Code                       Description   Score\n",
      "     718-7 Hemoglobin [Mass/volume] in Blood -2.4621\n",
      "\n",
      "Processing: liver function test\n"
     ]
    },
    {
     "name": "stderr",
     "output_type": "stream",
     "text": [
      "Ranking terms: 100%|██████████| 20/20 [00:00<00:00, 146.08it/s]\n"
     ]
    },
    {
     "name": "stdout",
     "output_type": "stream",
     "text": [
      "Expected LOINC: 1920-8\n",
      "\n",
      "Ranked Results:\n",
      "LOINC Code                           Description    Score\n",
      "     785-6 MCH [Entitic mass] by Automated count -11.1695\n",
      "\n",
      "Processing: cholesterol panel\n"
     ]
    },
    {
     "name": "stderr",
     "output_type": "stream",
     "text": [
      "Ranking terms: 100%|██████████| 20/20 [00:00<00:00, 89.18it/s]\n"
     ]
    },
    {
     "name": "stdout",
     "output_type": "stream",
     "text": [
      "Expected LOINC: 2093-3\n",
      "\n",
      "Ranked Results:\n",
      "LOINC Code                                  Description   Score\n",
      "    2093-3 Cholesterol [Mass/volume] in Serum or Plasma -2.5804\n",
      "\n",
      "Processing: kidney function test\n"
     ]
    },
    {
     "name": "stderr",
     "output_type": "stream",
     "text": [
      "Ranking terms: 100%|██████████| 20/20 [00:00<00:00, 142.42it/s]"
     ]
    },
    {
     "name": "stdout",
     "output_type": "stream",
     "text": [
      "Expected LOINC: 2160-0\n",
      "\n",
      "Ranked Results:\n",
      "LOINC Code                                        Description    Score\n",
      "     751-8 Neutrophils [#/volume] in Blood by Automated count -11.0728\n",
      "\n",
      "Summary Statistics:\n",
      "Total tests: 5\n",
      "Correct matches: 3\n",
      "Accuracy: 60.00%\n"
     ]
    },
    {
     "name": "stderr",
     "output_type": "stream",
     "text": [
      "\n"
     ]
    }
   ],
   "source": [
    "def process_csv(csv_path='test_descriptions.csv'):\n",
    "    # Read the CSV file\n",
    "    df = pd.read_csv(csv_path)\n",
    "    \n",
    "    # Process each description\n",
    "    results = []\n",
    "    for idx, row in df.iterrows():\n",
    "        description = row['description']\n",
    "        expected_loinc = row['expected_loinc']\n",
    "        \n",
    "        print(f\"\\nProcessing: {description}\")\n",
    "        ranked_results = ranker.rank_terms(description)\n",
    "        \n",
    "        # Get the top result\n",
    "        top_result = ranked_results[0]\n",
    "        \n",
    "        # Store results\n",
    "        results.append({\n",
    "            'description': description,\n",
    "            'expected_loinc': expected_loinc,\n",
    "            'top_loinc': top_result[0],\n",
    "            'top_score': top_result[2],\n",
    "            'match': expected_loinc == top_result[0]\n",
    "        })\n",
    "        \n",
    "        # Print individual results\n",
    "        print(f\"Expected LOINC: {expected_loinc}\")\n",
    "        ranker.print_ranked_results([top_result])\n",
    "    \n",
    "    # Create results DataFrame\n",
    "    results_df = pd.DataFrame(results)\n",
    "    \n",
    "    # Print summary statistics\n",
    "    print(\"\\nSummary Statistics:\")\n",
    "    print(f\"Total tests: {len(results_df)}\")\n",
    "    print(f\"Correct matches: {results_df['match'].sum()}\")\n",
    "    print(f\"Accuracy: {(results_df['match'].sum() / len(results_df)) * 100:.2f}%\")\n",
    "    \n",
    "    return results_df\n",
    "\n",
    "# Run the CSV processing\n",
    "results_df = process_csv()"
   ]
  }
 ],
 "metadata": {
  "kernelspec": {
   "display_name": "venv",
   "language": "python",
   "name": "python3"
  },
  "language_info": {
   "codemirror_mode": {
    "name": "ipython",
    "version": 3
   },
   "file_extension": ".py",
   "mimetype": "text/x-python",
   "name": "python",
   "nbconvert_exporter": "python",
   "pygments_lexer": "ipython3",
   "version": "3.13.1"
  }
 },
 "nbformat": 4,
 "nbformat_minor": 4
}
