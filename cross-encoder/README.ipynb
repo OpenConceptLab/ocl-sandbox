{
 "cells": [
  {
   "cell_type": "markdown",
   "metadata": {},
   "source": [
    "# Cross-Encoder Demo for Medical Term Re-ranking\n",
    "\n",
    "This notebook demonstrates three different approaches to using the cross-encoder for medical term re-ranking:\n",
    "1. Interactive input mode\n",
    "2. Single test description\n",
    "3. Batch processing from CSV"
   ]
  },
  {
   "cell_type": "code",
   "execution_count": 1,
   "metadata": {},
   "outputs": [
    {
     "name": "stderr",
     "output_type": "stream",
     "text": [
      "/Users/jonathanpayne/Dropbox/dev/ocl-sandbox/.venv/lib/python3.13/site-packages/tqdm/auto.py:21: TqdmWarning: IProgress not found. Please update jupyter and ipywidgets. See https://ipywidgets.readthedocs.io/en/stable/user_install.html\n",
      "  from .autonotebook import tqdm as notebook_tqdm\n",
      "/Users/jonathanpayne/Dropbox/dev/ocl-sandbox/.venv/lib/python3.13/site-packages/transformers/utils/generic.py:441: FutureWarning: `torch.utils._pytree._register_pytree_node` is deprecated. Please use `torch.utils._pytree.register_pytree_node` instead.\n",
      "  _torch_pytree._register_pytree_node(\n",
      "/Users/jonathanpayne/Dropbox/dev/ocl-sandbox/.venv/lib/python3.13/site-packages/huggingface_hub/file_download.py:896: FutureWarning: `resume_download` is deprecated and will be removed in version 1.0.0. Downloads always resume when possible. If you want to force a new download, use `force_download=True`.\n",
      "  warnings.warn(\n",
      "/Users/jonathanpayne/Dropbox/dev/ocl-sandbox/.venv/lib/python3.13/site-packages/transformers/utils/generic.py:309: FutureWarning: `torch.utils._pytree._register_pytree_node` is deprecated. Please use `torch.utils._pytree.register_pytree_node` instead.\n",
      "  _torch_pytree._register_pytree_node(\n"
     ]
    }
   ],
   "source": [
    "import pandas as pd\n",
    "from cross_encode import MedicalTermRanker, candidate_pool\n",
    "\n",
    "# Initialize the ranker once to be used across all examples\n",
    "ranker = MedicalTermRanker(candidate_pool=candidate_pool)"
   ]
  },
  {
   "cell_type": "markdown",
   "metadata": {},
   "source": [
    "## 1. Interactive Input Mode\n",
    "This cell implements the interactive mode where users can type descriptions and see results in real-time."
   ]
  },
  {
   "cell_type": "code",
   "execution_count": 2,
   "metadata": {},
   "outputs": [
    {
     "name": "stdout",
     "output_type": "stream",
     "text": [
      "Enter medical descriptions (type 'quit' to exit):\n"
     ]
    },
    {
     "name": "stderr",
     "output_type": "stream",
     "text": [
      "Ranking terms: 100%|██████████| 20/20 [00:00<00:00, 26.45it/s]\n"
     ]
    },
    {
     "name": "stdout",
     "output_type": "stream",
     "text": [
      "\n",
      "Ranked Results:\n",
      "LOINC Code                                                             Description    Score\n",
      "     718-7                                       Hemoglobin [Mass/volume] in Blood  -1.0905\n",
      "    1975-2                        Total Bilirubin [Mass/volume] in Serum or Plasma  -9.1000\n",
      "    4544-3                Hematocrit [Volume Fraction] of Blood by Automated count -10.0101\n",
      "    2571-8                           Triglyceride [Mass/volume] in Serum or Plasma -10.8224\n",
      "    2345-7                                Glucose [Mass/volume] in Serum or Plasma -10.9698\n",
      "    1742-6 Alanine aminotransferase [Enzymatic activity/volume] in Serum or Plasma -10.9784\n",
      "    2160-0                             Creatinine [Mass/volume] in Serum or Plasma -10.9960\n",
      "    6768-6     Alkaline phosphatase [Enzymatic activity/volume] in Serum or Plasma -11.1289\n",
      "     751-8                      Neutrophils [#/volume] in Blood by Automated count -11.1383\n",
      "    1920-8                      AST [Enzymatic activity/volume] in Serum or Plasma -11.1880\n",
      "    2085-9                        HDL Cholesterol [Mass/volume] in Serum or Plasma -11.1890\n",
      "    2093-3                            Cholesterol [Mass/volume] in Serum or Plasma -11.2454\n",
      "    2089-1                        LDL Cholesterol [Mass/volume] in Serum or Plasma -11.2719\n",
      "    3094-0                                    BUN [Mass/volume] in Serum or Plasma -11.2983\n",
      "     731-0                      Lymphocytes [#/volume] in Blood by Automated count -11.3588\n",
      "     785-6                                   MCH [Entitic mass] by Automated count -11.3841\n",
      "     788-0               Erythrocyte distribution width [Ratio] by Automated count -11.3843\n",
      "     786-4                                   MCHC [Mass/volume] by Automated count -11.3865\n",
      "     777-3                        Platelets [#/volume] in Blood by Automated count -11.3875\n",
      "     787-2                                 MCV [Entitic volume] by Automated count -11.3905\n"
     ]
    },
    {
     "name": "stderr",
     "output_type": "stream",
     "text": [
      "Ranking terms: 100%|██████████| 20/20 [00:00<00:00, 140.07it/s]\n"
     ]
    },
    {
     "name": "stdout",
     "output_type": "stream",
     "text": [
      "\n",
      "Ranked Results:\n",
      "LOINC Code                                                             Description    Score\n",
      "     718-7                                       Hemoglobin [Mass/volume] in Blood   5.4140\n",
      "    1975-2                        Total Bilirubin [Mass/volume] in Serum or Plasma  -8.3192\n",
      "    4544-3                Hematocrit [Volume Fraction] of Blood by Automated count  -8.6015\n",
      "    2345-7                                Glucose [Mass/volume] in Serum or Plasma -10.3216\n",
      "     751-8                      Neutrophils [#/volume] in Blood by Automated count -10.6452\n",
      "    2160-0                             Creatinine [Mass/volume] in Serum or Plasma -10.8762\n",
      "    1742-6 Alanine aminotransferase [Enzymatic activity/volume] in Serum or Plasma -10.9207\n",
      "    2571-8                           Triglyceride [Mass/volume] in Serum or Plasma -10.9389\n",
      "    2085-9                        HDL Cholesterol [Mass/volume] in Serum or Plasma -10.9396\n",
      "    6768-6     Alkaline phosphatase [Enzymatic activity/volume] in Serum or Plasma -10.9872\n",
      "    1920-8                      AST [Enzymatic activity/volume] in Serum or Plasma -11.0083\n",
      "     786-4                                   MCHC [Mass/volume] by Automated count -11.0164\n",
      "     731-0                      Lymphocytes [#/volume] in Blood by Automated count -11.0313\n",
      "    2093-3                            Cholesterol [Mass/volume] in Serum or Plasma -11.0653\n",
      "    2089-1                        LDL Cholesterol [Mass/volume] in Serum or Plasma -11.1140\n",
      "     785-6                                   MCH [Entitic mass] by Automated count -11.1492\n",
      "     777-3                        Platelets [#/volume] in Blood by Automated count -11.1992\n",
      "     787-2                                 MCV [Entitic volume] by Automated count -11.2216\n",
      "    3094-0                                    BUN [Mass/volume] in Serum or Plasma -11.2303\n",
      "     788-0               Erythrocyte distribution width [Ratio] by Automated count -11.2936\n"
     ]
    },
    {
     "name": "stderr",
     "output_type": "stream",
     "text": [
      "Ranking terms: 100%|██████████| 20/20 [00:00<00:00, 136.76it/s]\n"
     ]
    },
    {
     "name": "stdout",
     "output_type": "stream",
     "text": [
      "\n",
      "Ranked Results:\n",
      "LOINC Code                                                             Description    Score\n",
      "    1975-2                        Total Bilirubin [Mass/volume] in Serum or Plasma   3.7272\n",
      "     718-7                                       Hemoglobin [Mass/volume] in Blood  -9.8210\n",
      "    2571-8                           Triglyceride [Mass/volume] in Serum or Plasma -11.0995\n",
      "    1742-6 Alanine aminotransferase [Enzymatic activity/volume] in Serum or Plasma -11.1075\n",
      "    2345-7                                Glucose [Mass/volume] in Serum or Plasma -11.1722\n",
      "    2160-0                             Creatinine [Mass/volume] in Serum or Plasma -11.1768\n",
      "    6768-6     Alkaline phosphatase [Enzymatic activity/volume] in Serum or Plasma -11.2460\n",
      "     751-8                      Neutrophils [#/volume] in Blood by Automated count -11.2715\n",
      "    1920-8                      AST [Enzymatic activity/volume] in Serum or Plasma -11.2744\n",
      "    2085-9                        HDL Cholesterol [Mass/volume] in Serum or Plasma -11.3094\n",
      "    2093-3                            Cholesterol [Mass/volume] in Serum or Plasma -11.3198\n",
      "    3094-0                                    BUN [Mass/volume] in Serum or Plasma -11.3290\n",
      "    4544-3                Hematocrit [Volume Fraction] of Blood by Automated count -11.3330\n",
      "    2089-1                        LDL Cholesterol [Mass/volume] in Serum or Plasma -11.3386\n",
      "     788-0               Erythrocyte distribution width [Ratio] by Automated count -11.3829\n",
      "     786-4                                   MCHC [Mass/volume] by Automated count -11.3912\n",
      "     785-6                                   MCH [Entitic mass] by Automated count -11.3965\n",
      "     787-2                                 MCV [Entitic volume] by Automated count -11.3983\n",
      "     731-0                      Lymphocytes [#/volume] in Blood by Automated count -11.4010\n",
      "     777-3                        Platelets [#/volume] in Blood by Automated count -11.4070\n",
      "Please enter a valid description.\n"
     ]
    },
    {
     "name": "stderr",
     "output_type": "stream",
     "text": [
      "Ranking terms: 100%|██████████| 20/20 [00:00<00:00, 131.83it/s]\n"
     ]
    },
    {
     "name": "stdout",
     "output_type": "stream",
     "text": [
      "\n",
      "Ranked Results:\n",
      "LOINC Code                                                             Description    Score\n",
      "    1742-6 Alanine aminotransferase [Enzymatic activity/volume] in Serum or Plasma   4.6819\n",
      "    2160-0                             Creatinine [Mass/volume] in Serum or Plasma -10.1353\n",
      "    6768-6     Alkaline phosphatase [Enzymatic activity/volume] in Serum or Plasma -11.2039\n",
      "    2571-8                           Triglyceride [Mass/volume] in Serum or Plasma -11.2093\n",
      "    2345-7                                Glucose [Mass/volume] in Serum or Plasma -11.2480\n",
      "    1920-8                      AST [Enzymatic activity/volume] in Serum or Plasma -11.2932\n",
      "    1975-2                        Total Bilirubin [Mass/volume] in Serum or Plasma -11.3040\n",
      "    2093-3                            Cholesterol [Mass/volume] in Serum or Plasma -11.3378\n",
      "    3094-0                                    BUN [Mass/volume] in Serum or Plasma -11.3394\n",
      "     718-7                                       Hemoglobin [Mass/volume] in Blood -11.3434\n",
      "    2085-9                        HDL Cholesterol [Mass/volume] in Serum or Plasma -11.3473\n",
      "    2089-1                        LDL Cholesterol [Mass/volume] in Serum or Plasma -11.3604\n",
      "     786-4                                   MCHC [Mass/volume] by Automated count -11.3787\n",
      "     787-2                                 MCV [Entitic volume] by Automated count -11.3901\n",
      "     751-8                      Neutrophils [#/volume] in Blood by Automated count -11.3906\n",
      "     785-6                                   MCH [Entitic mass] by Automated count -11.3940\n",
      "    4544-3                Hematocrit [Volume Fraction] of Blood by Automated count -11.3959\n",
      "     788-0               Erythrocyte distribution width [Ratio] by Automated count -11.4082\n",
      "     731-0                      Lymphocytes [#/volume] in Blood by Automated count -11.4267\n",
      "     777-3                        Platelets [#/volume] in Blood by Automated count -11.4291\n"
     ]
    }
   ],
   "source": [
    "def interactive_mode():\n",
    "    print(\"Enter medical descriptions (type 'quit' to exit):\")\n",
    "    while True:\n",
    "        description = input(\"\\nEnter description: \").strip()\n",
    "        if description.lower() == 'quit':\n",
    "            break\n",
    "        if not description:\n",
    "            print(\"Please enter a valid description.\")\n",
    "            continue\n",
    "        \n",
    "        ranked_results = ranker.rank_terms(description)\n",
    "        ranker.print_ranked_results(ranked_results)\n",
    "\n",
    "interactive_mode()"
   ]
  },
  {
   "cell_type": "markdown",
   "metadata": {},
   "source": [
    "## 2. Single Test Description\n",
    "This cell demonstrates using a single hard-coded test description."
   ]
  },
  {
   "cell_type": "code",
   "execution_count": 6,
   "metadata": {},
   "outputs": [
    {
     "name": "stdout",
     "output_type": "stream",
     "text": [
      "Testing description: 'glucose'\n"
     ]
    },
    {
     "name": "stderr",
     "output_type": "stream",
     "text": [
      "Ranking terms: 100%|██████████| 20/20 [00:00<00:00, 136.32it/s]"
     ]
    },
    {
     "name": "stdout",
     "output_type": "stream",
     "text": [
      "\n",
      "Ranked Results:\n",
      "LOINC Code                                                             Description    Score\n",
      "    2345-7                                Glucose [Mass/volume] in Serum or Plasma   2.9120\n",
      "    2571-8                           Triglyceride [Mass/volume] in Serum or Plasma -10.2044\n",
      "    1975-2                        Total Bilirubin [Mass/volume] in Serum or Plasma -10.7396\n",
      "     718-7                                       Hemoglobin [Mass/volume] in Blood -10.8738\n",
      "    6768-6     Alkaline phosphatase [Enzymatic activity/volume] in Serum or Plasma -10.9320\n",
      "    1742-6 Alanine aminotransferase [Enzymatic activity/volume] in Serum or Plasma -10.9464\n",
      "    2093-3                            Cholesterol [Mass/volume] in Serum or Plasma -10.9769\n",
      "    2160-0                             Creatinine [Mass/volume] in Serum or Plasma -11.0003\n",
      "    2085-9                        HDL Cholesterol [Mass/volume] in Serum or Plasma -11.0383\n",
      "     785-6                                   MCH [Entitic mass] by Automated count -11.0898\n",
      "    2089-1                        LDL Cholesterol [Mass/volume] in Serum or Plasma -11.1034\n",
      "    1920-8                      AST [Enzymatic activity/volume] in Serum or Plasma -11.1532\n",
      "    3094-0                                    BUN [Mass/volume] in Serum or Plasma -11.2071\n",
      "     787-2                                 MCV [Entitic volume] by Automated count -11.2160\n",
      "     786-4                                   MCHC [Mass/volume] by Automated count -11.2439\n",
      "     751-8                      Neutrophils [#/volume] in Blood by Automated count -11.2617\n",
      "     788-0               Erythrocyte distribution width [Ratio] by Automated count -11.2626\n",
      "    4544-3                Hematocrit [Volume Fraction] of Blood by Automated count -11.2810\n",
      "     731-0                      Lymphocytes [#/volume] in Blood by Automated count -11.3013\n",
      "     777-3                        Platelets [#/volume] in Blood by Automated count -11.3088\n"
     ]
    },
    {
     "name": "stderr",
     "output_type": "stream",
     "text": [
      "\n"
     ]
    }
   ],
   "source": [
    "def test_single_description(description=\"blood glucose measurement\"):\n",
    "    print(f\"Testing description: '{description}'\")\n",
    "    ranked_results = ranker.rank_terms(description)\n",
    "    ranker.print_ranked_results(ranked_results)\n",
    "    return ranked_results\n",
    "\n",
    "# Run the test\n",
    "test_results = test_single_description('glucose')"
   ]
  },
  {
   "cell_type": "markdown",
   "metadata": {},
   "source": [
    "## 3. Batch Processing from CSV\n",
    "This cell demonstrates processing multiple descriptions from a CSV file and analyzing the results."
   ]
  },
  {
   "cell_type": "code",
   "execution_count": 7,
   "metadata": {},
   "outputs": [
    {
     "name": "stdout",
     "output_type": "stream",
     "text": [
      "\n",
      "Processing: blood sugar test\n"
     ]
    },
    {
     "name": "stderr",
     "output_type": "stream",
     "text": [
      "Ranking terms: 100%|██████████| 20/20 [00:00<00:00, 136.01it/s]\n"
     ]
    },
    {
     "name": "stdout",
     "output_type": "stream",
     "text": [
      "Expected LOINC: 2345-7\n",
      "\n",
      "Ranked Results:\n",
      "LOINC Code                              Description   Score\n",
      "    2345-7 Glucose [Mass/volume] in Serum or Plasma -2.4427\n",
      "\n",
      "Processing: complete blood count with hemoglobin\n"
     ]
    },
    {
     "name": "stderr",
     "output_type": "stream",
     "text": [
      "Ranking terms: 100%|██████████| 20/20 [00:00<00:00, 139.98it/s]\n"
     ]
    },
    {
     "name": "stdout",
     "output_type": "stream",
     "text": [
      "Expected LOINC: 718-7\n",
      "\n",
      "Ranked Results:\n",
      "LOINC Code                       Description   Score\n",
      "     718-7 Hemoglobin [Mass/volume] in Blood -2.4621\n",
      "\n",
      "Processing: liver function test\n"
     ]
    },
    {
     "name": "stderr",
     "output_type": "stream",
     "text": [
      "Ranking terms: 100%|██████████| 20/20 [00:00<00:00, 145.75it/s]\n"
     ]
    },
    {
     "name": "stdout",
     "output_type": "stream",
     "text": [
      "Expected LOINC: 1920-8\n",
      "\n",
      "Ranked Results:\n",
      "LOINC Code                           Description    Score\n",
      "     785-6 MCH [Entitic mass] by Automated count -11.1695\n",
      "\n",
      "Processing: cholesterol panel\n"
     ]
    },
    {
     "name": "stderr",
     "output_type": "stream",
     "text": [
      "Ranking terms: 100%|██████████| 20/20 [00:00<00:00, 145.51it/s]\n"
     ]
    },
    {
     "name": "stdout",
     "output_type": "stream",
     "text": [
      "Expected LOINC: 2093-3\n",
      "\n",
      "Ranked Results:\n",
      "LOINC Code                                  Description   Score\n",
      "    2093-3 Cholesterol [Mass/volume] in Serum or Plasma -2.5804\n",
      "\n",
      "Processing: kidney function test\n"
     ]
    },
    {
     "name": "stderr",
     "output_type": "stream",
     "text": [
      "Ranking terms: 100%|██████████| 20/20 [00:00<00:00, 148.96it/s]"
     ]
    },
    {
     "name": "stdout",
     "output_type": "stream",
     "text": [
      "Expected LOINC: 2160-0\n",
      "\n",
      "Ranked Results:\n",
      "LOINC Code                                        Description    Score\n",
      "     751-8 Neutrophils [#/volume] in Blood by Automated count -11.0728\n",
      "\n",
      "Summary Statistics:\n",
      "Total tests: 5\n",
      "Correct matches: 3\n",
      "Accuracy: 60.00%\n"
     ]
    },
    {
     "name": "stderr",
     "output_type": "stream",
     "text": [
      "\n"
     ]
    }
   ],
   "source": [
    "def process_csv(csv_path='test_descriptions.csv'):\n",
    "    # Read the CSV file\n",
    "    df = pd.read_csv(csv_path)\n",
    "    \n",
    "    # Process each description\n",
    "    results = []\n",
    "    for idx, row in df.iterrows():\n",
    "        description = row['description']\n",
    "        expected_loinc = row['expected_loinc']\n",
    "        \n",
    "        print(f\"\\nProcessing: {description}\")\n",
    "        ranked_results = ranker.rank_terms(description)\n",
    "        \n",
    "        # Get the top result\n",
    "        top_result = ranked_results[0]\n",
    "        \n",
    "        # Store results\n",
    "        results.append({\n",
    "            'description': description,\n",
    "            'expected_loinc': expected_loinc,\n",
    "            'top_loinc': top_result[0],\n",
    "            'top_score': top_result[2],\n",
    "            'match': expected_loinc == top_result[0]\n",
    "        })\n",
    "        \n",
    "        # Print individual results\n",
    "        print(f\"Expected LOINC: {expected_loinc}\")\n",
    "        ranker.print_ranked_results([top_result])\n",
    "    \n",
    "    # Create results DataFrame\n",
    "    results_df = pd.DataFrame(results)\n",
    "    \n",
    "    # Print summary statistics\n",
    "    print(\"\\nSummary Statistics:\")\n",
    "    print(f\"Total tests: {len(results_df)}\")\n",
    "    print(f\"Correct matches: {results_df['match'].sum()}\")\n",
    "    print(f\"Accuracy: {(results_df['match'].sum() / len(results_df)) * 100:.2f}%\")\n",
    "    \n",
    "    return results_df\n",
    "\n",
    "# Run the CSV processing\n",
    "results_df = process_csv()"
   ]
  }
 ],
 "metadata": {
  "kernelspec": {
   "display_name": ".venv",
   "language": "python",
   "name": "python3"
  },
  "language_info": {
   "codemirror_mode": {
    "name": "ipython",
    "version": 3
   },
   "file_extension": ".py",
   "mimetype": "text/x-python",
   "name": "python",
   "nbconvert_exporter": "python",
   "pygments_lexer": "ipython3",
   "version": "3.13.1"
  }
 },
 "nbformat": 4,
 "nbformat_minor": 4
}
